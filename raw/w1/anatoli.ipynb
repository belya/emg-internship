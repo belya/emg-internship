{
 "cells": [
  {
   "cell_type": "code",
   "execution_count": 1,
   "metadata": {},
   "outputs": [],
   "source": [
    "import pandas as pd"
   ]
  },
  {
   "cell_type": "code",
   "execution_count": 2,
   "metadata": {},
   "outputs": [],
   "source": [
    "%matplotlib inline\n",
    "import matplotlib.pyplot as plt"
   ]
  },
  {
   "cell_type": "code",
   "execution_count": 3,
   "metadata": {},
   "outputs": [],
   "source": [
    "import seaborn as sns"
   ]
  },
  {
   "cell_type": "code",
   "execution_count": 4,
   "metadata": {},
   "outputs": [],
   "source": [
    "import numpy as np"
   ]
  },
  {
   "cell_type": "code",
   "execution_count": 5,
   "metadata": {},
   "outputs": [],
   "source": [
    "import scipy.stats as stats"
   ]
  },
  {
   "cell_type": "code",
   "execution_count": 6,
   "metadata": {},
   "outputs": [],
   "source": [
    "muap_df = pd.read_csv(\"../../data/muap.csv\")"
   ]
  },
  {
   "cell_type": "code",
   "execution_count": 7,
   "metadata": {},
   "outputs": [],
   "source": [
    "muap_df[\"Cls\"] = muap_df[\"Cls\"].apply(lambda x: {\n",
    "    1: \"Normal\",\n",
    "    2: \"MND\",\n",
    "    3: \"Myopathy\"\n",
    "}[x])"
   ]
  },
  {
   "cell_type": "code",
   "execution_count": 8,
   "metadata": {},
   "outputs": [],
   "source": [
    "muap_df.drop(columns=[\"Pat.No.\"], inplace=True)"
   ]
  },
  {
   "cell_type": "code",
   "execution_count": 9,
   "metadata": {},
   "outputs": [
    {
     "data": {
      "text/plain": [
       "<matplotlib.axes._subplots.AxesSubplot at 0x7f89bc132c50>"
      ]
     },
     "execution_count": 9,
     "metadata": {},
     "output_type": "execute_result"
    },
    {
     "data": {
      "image/png": "[encoded data removed]",
      "text/plain": [
       "<matplotlib.figure.Figure at 0x7f89bc1322e8>"
      ]
     },
     "metadata": {},
     "output_type": "display_data"
    }
   ],
   "source": [
    "muap_df[\"Cls\"].value_counts().plot(kind=\"barh\")"
   ]
  },
  {
   "cell_type": "markdown",
   "metadata": {},
   "source": [
    "# Pearson correlations\n",
    "The simple first step. What features seems to be interconnected with the presence of the disease?"
   ]
  },
  {
   "cell_type": "code",
   "execution_count": 10,
   "metadata": {},
   "outputs": [],
   "source": [
    "class_df = muap_df[\"Cls\"]\n",
    "muap_df = pd.get_dummies(muap_df)\n",
    "muap_df[\"Cls\"] = class_df"
   ]
  },
  {
   "cell_type": "code",
   "execution_count": 11,
   "metadata": {},
   "outputs": [
    {
     "data": {
      "text/html": [
       "<div>\n",
       "<style scoped>\n",
       "    .dataframe tbody tr th:only-of-type {\n",
       "        vertical-align: middle;\n",
       "    }\n",
       "\n",
       "    .dataframe tbody tr th {\n",
       "        vertical-align: top;\n",
       "    }\n",
       "\n",
       "    .dataframe thead th {\n",
       "        text-align: right;\n",
       "    }\n",
       "</style>\n",
       "<table border=\"1\" class=\"dataframe\">\n",
       "  <thead>\n",
       "    <tr style=\"text-align: right;\">\n",
       "      <th></th>\n",
       "      <th>Cls_MND</th>\n",
       "      <th>Cls_Myopathy</th>\n",
       "      <th>Cls_Normal</th>\n",
       "    </tr>\n",
       "  </thead>\n",
       "  <tbody>\n",
       "    <tr>\n",
       "      <th>DurMn</th>\n",
       "      <td>0.818070</td>\n",
       "      <td>-0.699702</td>\n",
       "      <td>-0.115876</td>\n",
       "    </tr>\n",
       "    <tr>\n",
       "      <th>DurSD</th>\n",
       "      <td>0.671828</td>\n",
       "      <td>-0.606609</td>\n",
       "      <td>-0.063846</td>\n",
       "    </tr>\n",
       "    <tr>\n",
       "      <th>AmpMn</th>\n",
       "      <td>0.847803</td>\n",
       "      <td>-0.566037</td>\n",
       "      <td>-0.275833</td>\n",
       "    </tr>\n",
       "    <tr>\n",
       "      <th>AmpSD</th>\n",
       "      <td>0.666969</td>\n",
       "      <td>-0.379789</td>\n",
       "      <td>-0.281133</td>\n",
       "    </tr>\n",
       "    <tr>\n",
       "      <th>SpDMn</th>\n",
       "      <td>0.532937</td>\n",
       "      <td>-0.500261</td>\n",
       "      <td>-0.031988</td>\n",
       "    </tr>\n",
       "    <tr>\n",
       "      <th>SpDSD</th>\n",
       "      <td>0.578367</td>\n",
       "      <td>-0.546925</td>\n",
       "      <td>-0.030780</td>\n",
       "    </tr>\n",
       "    <tr>\n",
       "      <th>SpAMn</th>\n",
       "      <td>0.810965</td>\n",
       "      <td>-0.527092</td>\n",
       "      <td>-0.277896</td>\n",
       "    </tr>\n",
       "    <tr>\n",
       "      <th>SpASD</th>\n",
       "      <td>0.761341</td>\n",
       "      <td>-0.379311</td>\n",
       "      <td>-0.373987</td>\n",
       "    </tr>\n",
       "    <tr>\n",
       "      <th>PhMn</th>\n",
       "      <td>0.760677</td>\n",
       "      <td>-0.302776</td>\n",
       "      <td>-0.448260</td>\n",
       "    </tr>\n",
       "    <tr>\n",
       "      <th>PhSD</th>\n",
       "      <td>0.607260</td>\n",
       "      <td>-0.141027</td>\n",
       "      <td>-0.456417</td>\n",
       "    </tr>\n",
       "    <tr>\n",
       "      <th>TurMn</th>\n",
       "      <td>0.752566</td>\n",
       "      <td>-0.333974</td>\n",
       "      <td>-0.409779</td>\n",
       "    </tr>\n",
       "    <tr>\n",
       "      <th>TurSD</th>\n",
       "      <td>0.640643</td>\n",
       "      <td>-0.216792</td>\n",
       "      <td>-0.414927</td>\n",
       "    </tr>\n",
       "    <tr>\n",
       "      <th>ArMn</th>\n",
       "      <td>0.719892</td>\n",
       "      <td>-0.470005</td>\n",
       "      <td>-0.244626</td>\n",
       "    </tr>\n",
       "    <tr>\n",
       "      <th>ArSD</th>\n",
       "      <td>0.320417</td>\n",
       "      <td>-0.303296</td>\n",
       "      <td>-0.016761</td>\n",
       "    </tr>\n",
       "  </tbody>\n",
       "</table>\n",
       "</div>"
      ],
      "text/plain": [
       "        Cls_MND  Cls_Myopathy  Cls_Normal\n",
       "DurMn  0.818070     -0.699702   -0.115876\n",
       "DurSD  0.671828     -0.606609   -0.063846\n",
       "AmpMn  0.847803     -0.566037   -0.275833\n",
       "AmpSD  0.666969     -0.379789   -0.281133\n",
       "SpDMn  0.532937     -0.500261   -0.031988\n",
       "SpDSD  0.578367     -0.546925   -0.030780\n",
       "SpAMn  0.810965     -0.527092   -0.277896\n",
       "SpASD  0.761341     -0.379311   -0.373987\n",
       "PhMn   0.760677     -0.302776   -0.448260\n",
       "PhSD   0.607260     -0.141027   -0.456417\n",
       "TurMn  0.752566     -0.333974   -0.409779\n",
       "TurSD  0.640643     -0.216792   -0.414927\n",
       "ArMn   0.719892     -0.470005   -0.244626\n",
       "ArSD   0.320417     -0.303296   -0.016761"
      ]
     },
     "execution_count": 11,
     "metadata": {},
     "output_type": "execute_result"
    }
   ],
   "source": [
    "muap_df.corr().loc[\n",
    "    [c for c in muap_df.columns if \"Cls\" not in c], \n",
    "    [c for c in muap_df.columns if \"Cls_\" in c]\n",
    "]"
   ]
  },
  {
   "cell_type": "code",
   "execution_count": 13,
   "metadata": {},
   "outputs": [
    {
     "data": {
      "text/plain": [
       "<matplotlib.axes._subplots.AxesSubplot at 0x7f89bbfbb358>"
      ]
     },
     "execution_count": 13,
     "metadata": {},
     "output_type": "execute_result"
    },
    {
     "data": {
      "image/png": "[encoded data removed]",
      "text/plain": [
       "<matplotlib.figure.Figure at 0x7f89bbf9e198>"
      ]
     },
     "metadata": {},
     "output_type": "display_data"
    }
   ],
   "source": [
    "sns.scatterplot(data=muap_df[muap_df[\"Cls_Myopathy\"] == 1], x=\"DurMn\", y=\"DurSD\")\n",
    "sns.scatterplot(data=muap_df[muap_df[\"Cls_MND\"] == 1], x=\"DurMn\", y=\"DurSD\")"
   ]
  },
  {
   "cell_type": "markdown",
   "metadata": {},
   "source": [
    "# Explanation\n",
    "Duration features (DurMn, DurSD) seems to be correlated with MND presence and with Myopathy absense. Is there a reason for such correlation?\n",
    "\n",
    "For this step, we should look into the article. It says that:\n",
    "\n",
    "- For MND: \"Motor unit potentials with duration values that are longer than normal ... are typical findings in MND. ... The latter effect is the result of slowed conduction along the terminal branches of individual nerve fibers\"\n",
    "\n",
    "- For Myopathy: \"MUAP’s with short duration are typical findings in patients suffering from myopathy. These findings are attributed to fiber loss within the motor unit\"\n",
    "\n",
    "So, the difference in DurMn feature can be explained with the difference of biological processes in the tissues of MND (nerve conduction impairment) and Myopathy (motor fiber loss) patients."
   ]
  },
  {
   "cell_type": "markdown",
   "metadata": {},
   "source": [
    "# Statistical test"
   ]
  },
  {
   "cell_type": "markdown",
   "metadata": {},
   "source": [
    "Our dataset is very small, it contains only 34 records - that is a common situation for medical data. So we cannot be sure if the DurMn feature can really be significant for class separation, or this difference appeared by chance. We should show the statistical significance of the difference in DurMn values between classes."
   ]
  },
  {
   "cell_type": "markdown",
   "metadata": {},
   "source": [
    "### What is statistical significance?"
   ]
  },
  {
   "cell_type": "markdown",
   "metadata": {},
   "source": [
    "Let's look at the following example situation. We've selected some points with `np.random.randn` from the same distribution $N(0, 1)$. But it appears to be that the values in the first half of the generated sample is smaller than in the rest."
   ]
  },
  {
   "cell_type": "code",
   "execution_count": 14,
   "metadata": {},
   "outputs": [
    {
     "data": {
      "text/plain": [
       "[0.18087853,\n",
       " 0.11171142,\n",
       " 0.09779717,\n",
       " 0.55061778,\n",
       " 0.12703509,\n",
       " 0.88666074,\n",
       " 0.87662885,\n",
       " 0.58955246,\n",
       " 0.74943889,\n",
       " 0.91228432]"
      ]
     },
     "execution_count": 14,
     "metadata": {},
     "output_type": "execute_result"
    }
   ],
   "source": [
    "sample = [0.18087853, 0.11171142, 0.09779717, 0.55061778, 0.12703509, 0.88666074, 0.87662885, 0.58955246, 0.74943889, 0.91228432]\n",
    "sample"
   ]
  },
  {
   "cell_type": "code",
   "execution_count": 15,
   "metadata": {},
   "outputs": [
    {
     "data": {
      "text/plain": [
       "[0, 0, 0, 0, 0, 1, 1, 1, 1, 1]"
      ]
     },
     "execution_count": 15,
     "metadata": {},
     "output_type": "execute_result"
    }
   ],
   "source": [
    "classes = [0] * 5 + [1] * 5\n",
    "classes"
   ]
  },
  {
   "cell_type": "code",
   "execution_count": 16,
   "metadata": {},
   "outputs": [],
   "source": [
    "sample_df = pd.DataFrame(np.array([sample, classes]).T, columns=[\"value\", \"class\"])"
   ]
  },
  {
   "cell_type": "code",
   "execution_count": 17,
   "metadata": {},
   "outputs": [
    {
     "data": {
      "image/png": "[encoded data removed]",
      "text/plain": [
       "<matplotlib.figure.Figure at 0x7f89aae07400>"
      ]
     },
     "metadata": {},
     "output_type": "display_data"
    }
   ],
   "source": [
    "plt.hist(sample_df[sample_df[\"class\"] == 0][\"value\"])\n",
    "plt.hist(sample_df[sample_df[\"class\"] == 1][\"value\"])\n",
    "plt.axvline(0.57)\n",
    "plt.show()"
   ]
  },
  {
   "cell_type": "markdown",
   "metadata": {},
   "source": [
    "The groups can obviously be separated by the given threshold. But, as was mentioned above, both halves were taken from the same distribution. Is it a way to avoid the judgment about the groups difference in such situation? "
   ]
  },
  {
   "cell_type": "markdown",
   "metadata": {},
   "source": [
    "In such cases, the final conclusion can be made using a statistical test. Let's consider each step of this process with one-sample parametric Z-test as an example. "
   ]
  },
  {
   "cell_type": "markdown",
   "metadata": {},
   "source": [
    "**Null and alternative hypothesis**"
   ]
  },
  {
   "cell_type": "markdown",
   "metadata": {},
   "source": [
    "First of all, we need to put hypotheses. They are the statements which possibility will be compared against each other to find the most plausible one. For the described case, we can compare the center of each group with standard normal distribution mean with known variation (because for now this parameter is out of interest). \n",
    "$$ H_0: \\mu = 0 $$\n",
    "$$ H_1: \\mu = \\mu_1, \\mu_1 \\neq 0 $$\n",
    "\n",
    "In such case, $H_0$ is called null hypothesis, and $H_1$ is called an alternative. If null hypothesis is the most probable for both groups, then the difference between their centers can be considered as non-significant."
   ]
  },
  {
   "cell_type": "markdown",
   "metadata": {},
   "source": [
    "**Test statistics**"
   ]
  },
  {
   "cell_type": "markdown",
   "metadata": {},
   "source": [
    "How to find the most probable hypothesis? It can be done by the actual calculation of its probability on the given data, i.e.\n",
    "$$ L(X|\\theta) = \\prod_i p(x_i|\\theta)$$\n",
    "\n",
    "Where $X$ is the given sample, $x_i$ is the point $i$, $\\theta$ is the parameter of the distribution suggested in hypothesis. $L$ function, called likelihood, is used to build an optimal test by the Neumann-Pearson lemma. \n",
    "\n",
    "We can use the following fraction to compare likelihoods for null and alternative hypotheses:\n",
    "\n",
    "$$ \\phi = \\frac{L(X|\\theta_1)}{L(X|\\theta_0)} \\geq C $$\n",
    "\n",
    "If the inequality is correct for given $X$, then the alternative hypothesis is more plausible to match the given data. \n",
    "\n",
    "For Z-test, where $p(x_i|\\mu)$ in $L$ equation can be represented with normal distribution formula with known standard deviation $\\sigma$, it is possible to simplify $\\phi$ fraction as:\n",
    "\n",
    "$$ \\sum_i x_i \\leq C'_1 $$\n",
    "$$ \\sum_i x_i \\geq C'_2 $$\n",
    "\n",
    "In both cases, the values for $C$ and $C'_1, C'_2$ are selected based on the significance level"
   ]
  },
  {
   "cell_type": "markdown",
   "metadata": {},
   "source": [
    "** Significance level **"
   ]
  },
  {
   "cell_type": "markdown",
   "metadata": {},
   "source": [
    "There are two types of statistical conclusion errors possible. \n",
    "- Type I error - occurs when you incorrectly reject a true null hypothesis\n",
    "- Type II error - occurs when you failed to reject a false null hypothesis\n",
    "\n",
    "The probability of Type I error for the test $\\alpha$ is called significance level. The inverse probability of Type II error $(1 - \\beta)$ is called test power.\n",
    "\n",
    "It is impossible to reduce the probability of both errors to zero in general case, but we can fix the significance level (values of 5% or 1% are used in most cases) and then increase test power as much as possible. According to Neumann-Pearson lemma, such optimum can be achieved if null hypothesis will be rejected for $\\alpha$% of all possible datasets $X$. \n",
    "\n",
    "For Z-test, the search of $C'_1, C'_2$ values can be simplified to the following equation:\n",
    "$$ C'_1 = n\\mu_0 + u_{\\alpha / 2}\\sigma\\sqrt n $$\n",
    "$$ C'_2 = n\\mu_0 + u_{1 - \\alpha / 2}\\sigma\\sqrt n $$\n",
    "\n",
    "Where $u_{x}$ is the x-level quantile of $N(0, 1)$\n",
    "\n",
    "To avoid the usage of quantiles for Z-test, it is possible to compare the probability of $\\phi$ (or Z) value (called p-value) with an actual significance level.\n",
    "$$ Z = \\frac{\\sum_i x_i - n\\mu}{\\sqrt{n}\\sigma} $$\n",
    "\n",
    "I.e. the value of Z should be between $\\alpha / 2$ and $1 - \\alpha / 2$ to make null hypothesis acceptable."
   ]
  },
  {
   "cell_type": "markdown",
   "metadata": {},
   "source": [
    "The process of Z-test usage is shown below"
   ]
  },
  {
   "cell_type": "code",
   "execution_count": 18,
   "metadata": {},
   "outputs": [],
   "source": [
    "def z_test_p_value(x, mu=0, std=1, threshold=0.05):\n",
    "    z = (x.mean() - mu) / (std / np.sqrt(x.shape[0]))\n",
    "    return stats.norm.pdf(z), (stats.norm.pdf(z) > threshold / 2) & (stats.norm.pdf(z) < (1 - threshold) / 2)"
   ]
  },
  {
   "cell_type": "code",
   "execution_count": 19,
   "metadata": {},
   "outputs": [
    {
     "data": {
      "text/plain": [
       "(0.3559341720398134, True)"
      ]
     },
     "execution_count": 19,
     "metadata": {},
     "output_type": "execute_result"
    }
   ],
   "source": [
    "z_test_p_value(sample_df[sample_df[\"class\"] == 0][\"value\"])"
   ]
  },
  {
   "cell_type": "code",
   "execution_count": 20,
   "metadata": {
    "scrolled": true
   },
   "outputs": [
    {
     "data": {
      "text/plain": [
       "(0.07961028739238718, True)"
      ]
     },
     "execution_count": 20,
     "metadata": {},
     "output_type": "execute_result"
    }
   ],
   "source": [
    "z_test_p_value(sample_df[sample_df[\"class\"] == 1][\"value\"])"
   ]
  },
  {
   "cell_type": "markdown",
   "metadata": {},
   "source": [
    "So, if the significant level is 5%, then in both cases there is a significant probability that the sample was taken from standard normal distribution. I.e. the presented difference between samples is statistically insignificant."
   ]
  },
  {
   "cell_type": "markdown",
   "metadata": {},
   "source": [
    "### Statistical significance of DurMn "
   ]
  },
  {
   "cell_type": "markdown",
   "metadata": {},
   "source": [
    "Z-test is an example of one-sample parametric test. In most cases, it is barely possible to say that the feature can be represented by the certain distribution. As an example of non-parametric two-sample test, the authors of the paper used Mann-Whitney U to check is the difference statistically significant.  "
   ]
  },
  {
   "cell_type": "code",
   "execution_count": 21,
   "metadata": {},
   "outputs": [
    {
     "name": "stderr",
     "output_type": "stream",
     "text": [
      "/usr/local/lib/python3.5/dist-packages/scipy/stats/stats.py:1713: FutureWarning: Using a non-tuple sequence for multidimensional indexing is deprecated; use `arr[tuple(seq)]` instead of `arr[seq]`. In the future this will be interpreted as an array index, `arr[np.array(seq)]`, which will result either in an error or a different result.\n",
      "  return np.add.reduce(sorted[indexer] * weights, axis=axis) / sumval\n"
     ]
    },
    {
     "data": {
      "text/plain": [
       "<matplotlib.text.Text at 0x7f89aacc1898>"
      ]
     },
     "execution_count": 21,
     "metadata": {},
     "output_type": "execute_result"
    },
    {
     "data": {
      "image/png": "[encoded data removed]",
      "text/plain": [
       "<matplotlib.figure.Figure at 0x7f89bbfe0dd8>"
      ]
     },
     "metadata": {},
     "output_type": "display_data"
    }
   ],
   "source": [
    "sns.distplot(muap_df[muap_df[\"Cls_Myopathy\"] == 1][\"DurMn\"])\n",
    "sns.distplot(muap_df[muap_df[\"Cls_MND\"] == 1][\"DurMn\"])\n",
    "p_value = stats.mannwhitneyu(muap_df[muap_df[\"Cls_Myopathy\"] == 1][\"DurMn\"], muap_df[muap_df[\"Cls_MND\"] == 1][\"DurMn\"]).pvalue\n",
    "plt.title(\"Mann-Whitney p-value = {0:.2f}% \\nMeans are different\".format(p_value * 100))"
   ]
  },
  {
   "cell_type": "markdown",
   "metadata": {},
   "source": [
    "So, the difference in DurMn for MND and Myopathy patients can be explained biologically, and the dataset is representative enough to show it."
   ]
  }
 ],
 "metadata": {
  "kernelspec": {
   "display_name": "Python 3",
   "language": "python",
   "name": "python3"
  },
  "language_info": {
   "codemirror_mode": {
    "name": "ipython",
    "version": 3
   },
   "file_extension": ".py",
   "mimetype": "text/x-python",
   "name": "python",
   "nbconvert_exporter": "python",
   "pygments_lexer": "ipython3",
   "version": "3.5.2"
  }
 },
 "nbformat": 4,
 "nbformat_minor": 2
}
