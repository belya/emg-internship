{
 "cells": [
  {
   "cell_type": "markdown",
   "metadata": {},
   "source": [
    "# Title"
   ]
  },
  {
   "cell_type": "markdown",
   "metadata": {},
   "source": [
    "Needle EMG MUAP Time Domain Features"
   ]
  },
  {
   "cell_type": "markdown",
   "metadata": {},
   "source": [
    "# Description"
   ]
  },
  {
   "cell_type": "markdown",
   "metadata": {},
   "source": [
    "Neuromuscular diseases are a group of disorders which involves\n",
    "the motor nuclei of the cranial nerves, the anterior horn\n",
    "cells of the spinal cord, the nerve roots and spinal nerves, the\n",
    "peripheral nerves, the neuromuscular junction, and the muscle\n",
    "itself. "
   ]
  },
  {
   "cell_type": "markdown",
   "metadata": {},
   "source": [
    "Motor Neuron Disease (MND) is a disease causing selective\n",
    "degeneration of the upper and lower motor neuron.\n",
    "This disease affects middle- to old-aged people, with\n",
    "progressive widespread loss of motor neurons usually\n",
    "leading to death within three to five years. "
   ]
  },
  {
   "cell_type": "markdown",
   "metadata": {},
   "source": [
    "Myopathies (MYO) are a group of diseases that affect\n",
    "primarily skeletal muscle fibers and are divided into\n",
    "two groups, according to whether they are inherited\n",
    "or acquired. Hereditary myopathies show a progressive clinical course from birth or after a variable period of apparently normal infancy. Acquired myopathies (for example, polymyositis), are characterized by acute or subacute onset with muscle weakness progressing slowly over a matter of weeks."
   ]
  },
  {
   "cell_type": "markdown",
   "metadata": {},
   "source": [
    "Electromyography (EMG) is the study of the electrical activity of muscle, and forms a valuable aid in the diagnosis of neuromuscular disorders. EMG findings are used to detect and describe different disease processes affecting the motor unit, the smallest functional unit of the muscle. With voluntary muscle contraction, the action potential reflecting the electrical activity of a single anatomical motor unit is recorded. It is the compound motor unit action potential (MUAP) of those muscle fibers within the recording range of the needle electrode "
   ]
  },
  {
   "cell_type": "markdown",
   "metadata": {},
   "source": [
    "In routine clinical EMG, MUAP morphology is subjectively evaluated by the examiner. However, a purely descriptive approach is not sufficient and an exact quantitative measurement of different MUAP parameters is necessary. Computer-aided EMG processing saves time, standardizes the measurements, and enables the extraction of additional features which cannot be easily calculated manually. To further the development of quantitative EMG techniques, the need has emerged for adding automated decision making support to these techniques so that all data is processed in an integrated environment. "
   ]
  },
  {
   "cell_type": "markdown",
   "metadata": {},
   "source": [
    "In this paper, artificial neural networks are used as a new approach for the automatic classification of EMG features recorded from normal individuals and patients suffering with neuromuscular diseases. The biceps brachii muscle was examined in this procedure because of its easy accessibility and it is usually affected at an early stage in both MND and MYO. Also, its has made it attractive to study and widely reported in the literature."
   ]
  },
  {
   "cell_type": "markdown",
   "metadata": {},
   "source": [
    "Какой может быть косяк?\n",
    "- Необходимое количество измерений может быть меньше/должно быть больше\n",
    "- Разделение на обучающую и тестовую выборки - есть подвыборка с низкой точностью\n",
    "- Неподходящая метрика измерения качества модели\n",
    "- Расхождение масштаба признаков\n",
    "- Ошибка при поиске начальных и конечных точек\n",
    "- Есть ли расхождение доменных знаний с практикой - в первую очередь"
   ]
  },
  {
   "cell_type": "markdown",
   "metadata": {},
   "source": [
    "# Experiment\n",
    "\n",
    "A total of 880 MUAP’s were collected from the biceps brachii muscle from 14 normals, 16 MND, and 14 MY0 subjects with the examination procedure taking on average 30-45 min."
   ]
  },
  {
   "cell_type": "markdown",
   "metadata": {},
   "source": [
    "### MUAP extraction process"
   ]
  },
  {
   "cell_type": "markdown",
   "metadata": {},
   "source": [
    "1. Initial five-seconds epoch processing\n",
    "    - bandpass filter - 3 Hz to 10 KHz\n",
    "    - sampling - at 20 KHz, with 12 b resolution. \n",
    "    - lowpass filter - 8 KHz\n",
    "    - high-pass filter - 250 Hz\n",
    "1. Ending and beginning extraction - both points are identified with a sliding window of length 3ms and width $\\pm 40 \\mu V$. BEP is the first point that satisfies the following criterion searching to the left of the potential waveform: the signal to the left of BEP remains within $ \\pm 40 \\mu V $ for 3 ms. EEP is located in a similar way, searching to the right of the potential waveform. These extraction points are then mapped to the original signal\n",
    "1. Baseline correction. The average MUAP baseline\n",
    "over 3 ms to the right of point P is computed. This\n",
    "is then subtracted from the potential waveform. Point P\n",
    "is the point which is 6 ms to the left of BEP. "
   ]
  },
  {
   "cell_type": "markdown",
   "metadata": {},
   "source": [
    "### Intependent variables\n",
    "\n",
    "Each line represents the features of one subject. For each subject 20 MUAPS were collected. The mean and standard deviation values of the time domain features for 20 MUAPS are given for each subject. \n",
    "\n",
    "![](./images/muap.png)\n"
   ]
  },
  {
   "cell_type": "markdown",
   "metadata": {},
   "source": [
    "- DurMn, DurSD - mean and standard deviation for MUAP duration. MUAP beginning and ending are identified with sliding window\n",
    "- AmpMn, AmpSD - amplitude, i.e. difference between the minimum positive peak and the maximum negative peak. \n",
    "- SpDMn, SpDSD - spike duration,  measured from the first to the last positive spike. \n",
    "- SpAMn, SpASD - spike area, i.e.  sum of the rectified MUAP integrated over the spike duration.\n",
    "- PhMn, PhSD - number of baseline crossings that exceed $25 \\mu V$ plus one.\n",
    "- TurMn, TurSD - number of positive and negative peaks separated from the proceeding and following peak by $25 \\mu V$\n",
    "- ArMn, ArSD -  total area, i.e. sum of the rectified MUAP integrated over the duration measure"
   ]
  },
  {
   "cell_type": "markdown",
   "metadata": {},
   "source": [
    "### Target variable\n",
    "\n",
    "Column 15: class; 1=NOR=NORMAL; 2=MND=MOTOR NEURON DISEASE; 3=MYO=MYOPATHY\n",
    "\n",
    "Diagnostic criteria for the subjects selected\n",
    "were based on clinical opinion, biochemical data, and\n",
    "muscle biopsy. Only subjects without a history or signs of\n",
    "neuromuscular disorders were included in the normal group."
   ]
  },
  {
   "cell_type": "markdown",
   "metadata": {},
   "source": [
    "# Hypotheses"
   ]
  },
  {
   "cell_type": "markdown",
   "metadata": {},
   "source": [
    "1. MND - these changes reflects an increase in the number or density of fibers in motor units, or increased temporal dispersion of the activity picked up by the recording electrode. The latter effect is the result of slowed conduction along the terminal branches of individual nerve fibers, or increase in the end-plate zone, or both\n",
    "    1. Long duration values\n",
    "    1. Increased amplitude \n",
    "1. MYO - these findings are attributed to fiber loss within the motor unit, with the degree of reduction of these parameters reflecting the amount of fiber loss\n",
    "    1. Short duration\n",
    "    1. Reduced amplitude\n",
    "3. 20 MUAPs and 30 min for each subjects are enough to make a prediction"
   ]
  },
  {
   "cell_type": "markdown",
   "metadata": {},
   "source": [
    "# Related articles"
   ]
  },
  {
   "cell_type": "markdown",
   "metadata": {},
   "source": [
    "1. C.S. Pattichis, C.N. Schizas, L. Middleton, Neural Network Models in EMG Diagnosis, IEEE Transactions on Biomedical Engineering, Vol. 42, No. 5, pp. 486-496, 1995."
   ]
  }
 ],
 "metadata": {
  "kernelspec": {
   "display_name": "Python 3",
   "language": "python",
   "name": "python3"
  },
  "language_info": {
   "codemirror_mode": {
    "name": "ipython",
    "version": 3
   },
   "file_extension": ".py",
   "mimetype": "text/x-python",
   "name": "python",
   "nbconvert_exporter": "python",
   "pygments_lexer": "ipython3",
   "version": "3.5.2"
  }
 },
 "nbformat": 4,
 "nbformat_minor": 2
}
